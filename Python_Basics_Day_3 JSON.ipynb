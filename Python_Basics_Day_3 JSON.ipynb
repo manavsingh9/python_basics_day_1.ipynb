{
  "cells": [
    {
      "cell_type": "markdown",
      "metadata": {
        "id": "qVFRkTAnzX7k"
      },
      "source": [
        "# For Loop\n",
        "\n",
        "*   It is used for iterating over a sequence (that is either a list, a tuple, a dictionary, a set, or a string).\n",
        "*   Using Break & Contiue keyword\n",
        "\n"
      ]
    },
    {
      "cell_type": "code",
      "execution_count": null,
      "metadata": {
        "colab": {
          "base_uri": "https://localhost:8080/"
        },
        "id": "0PJX371rzRtE",
        "outputId": "f831f54f-046a-42a1-849b-0722f3ddfa64"
      },
      "outputs": [
        {
          "name": "stdout",
          "output_type": "stream",
          "text": [
            "apple\n",
            "banana\n",
            "cherry\n",
            "pineappple\n",
            "mango\n"
          ]
        }
      ],
      "source": [
        "fruits = [\"apple\", \"banana\", \"cherry\",'pineappple','mango']\n",
        "\n",
        "for i in fruits:\n",
        "  print(i)"
      ]
    },
    {
      "cell_type": "code",
      "execution_count": null,
      "metadata": {
        "id": "YjIy2LOeqM5i"
      },
      "outputs": [],
      "source": []
    },
    {
      "cell_type": "code",
      "execution_count": null,
      "metadata": {
        "colab": {
          "base_uri": "https://localhost:8080/"
        },
        "id": "HLUxrJtZzRvU",
        "outputId": "a1c77ae1-7a3f-4172-ee62-90b97969ea8c"
      },
      "outputs": [
        {
          "name": "stdout",
          "output_type": "stream",
          "text": [
            "apple\n",
            "banana\n"
          ]
        }
      ],
      "source": [
        "for x in fruits:\n",
        "  print(x)\n",
        "  if x == \"banana\":\n",
        "    break"
      ]
    },
    {
      "cell_type": "code",
      "execution_count": null,
      "metadata": {
        "colab": {
          "base_uri": "https://localhost:8080/"
        },
        "id": "_O3nKB7PzRxM",
        "outputId": "6ff27e3d-e5b1-4d48-e043-b6a8316ce2d4"
      },
      "outputs": [
        {
          "name": "stdout",
          "output_type": "stream",
          "text": [
            "apple\n",
            "banana\n",
            "pineappple\n",
            "mango\n"
          ]
        }
      ],
      "source": [
        "for x in fruits:\n",
        "  if x == \"cherry\":\n",
        "    continue\n",
        "  print(x)"
      ]
    },
    {
      "cell_type": "code",
      "execution_count": null,
      "metadata": {
        "id": "Bs9dXpPrzR8z"
      },
      "outputs": [],
      "source": []
    },
    {
      "cell_type": "code",
      "execution_count": null,
      "metadata": {
        "id": "VOolsI5FzR-r"
      },
      "outputs": [],
      "source": []
    },
    {
      "cell_type": "markdown",
      "metadata": {
        "id": "BbBlNnws3R4W"
      },
      "source": [
        "# While Loop\n",
        "\n",
        "*   With the while loop we can execute a set of statements as long as a condition is true.\n",
        "*   Using Break & Contiue keyword"
      ]
    },
    {
      "cell_type": "code",
      "execution_count": null,
      "metadata": {
        "colab": {
          "base_uri": "https://localhost:8080/"
        },
        "id": "vsKlaf0xu-eA",
        "outputId": "f20f40a4-642e-4a75-8c64-f4b58e72341f"
      },
      "outputs": [
        {
          "name": "stdout",
          "output_type": "stream",
          "text": [
            "1\n",
            "2\n",
            "3\n",
            "4\n",
            "5\n"
          ]
        }
      ],
      "source": [
        "num = 1\n",
        "\n",
        "while num < 6:\n",
        "  print(num)\n",
        "  num += 1"
      ]
    },
    {
      "cell_type": "code",
      "execution_count": null,
      "metadata": {
        "colab": {
          "base_uri": "https://localhost:8080/"
        },
        "id": "llNoUMnIzSJb",
        "outputId": "25eb84ae-11fe-432e-c49f-15fe21285934"
      },
      "outputs": [
        {
          "name": "stdout",
          "output_type": "stream",
          "text": [
            "1\n",
            "2\n",
            "3\n"
          ]
        }
      ],
      "source": [
        "num = 1\n",
        "\n",
        "while num < 6:\n",
        "  print(num)\n",
        "  if num == 3:\n",
        "    break\n",
        "  num = num + 1"
      ]
    },
    {
      "cell_type": "code",
      "execution_count": null,
      "metadata": {
        "id": "NGLNfoyPv8fw"
      },
      "outputs": [],
      "source": []
    },
    {
      "cell_type": "code",
      "execution_count": null,
      "metadata": {
        "id": "gCHWSpn7v8jU"
      },
      "outputs": [],
      "source": []
    },
    {
      "cell_type": "code",
      "execution_count": null,
      "metadata": {
        "colab": {
          "base_uri": "https://localhost:8080/"
        },
        "id": "216Eb_bp4I39",
        "outputId": "bbfcfed1-d5c6-49e5-8da6-d918d9dc7109"
      },
      "outputs": [
        {
          "name": "stdout",
          "output_type": "stream",
          "text": [
            "1\n",
            "2\n",
            "3\n",
            "4\n",
            "6\n",
            "7\n",
            "8\n",
            "9\n",
            "10\n"
          ]
        }
      ],
      "source": [
        "num = 0\n",
        "\n",
        "while num < 10:\n",
        "  num += 1\n",
        "  if num == 5:\n",
        "    continue\n",
        "  print(num)"
      ]
    },
    {
      "cell_type": "code",
      "execution_count": null,
      "metadata": {
        "id": "SeSY6lRE4I6E"
      },
      "outputs": [],
      "source": []
    },
    {
      "cell_type": "code",
      "execution_count": null,
      "metadata": {
        "id": "4WkVAVl14I7_"
      },
      "outputs": [],
      "source": []
    },
    {
      "cell_type": "markdown",
      "metadata": {
        "id": "Cby1_zmlNmoy"
      },
      "source": [
        "# Python Functions\n",
        "\n",
        "*   A function is a block of code which only runs when it is called.\n",
        "\n",
        "*   Advanced Functions - lambda, map, zip"
      ]
    },
    {
      "cell_type": "code",
      "execution_count": null,
      "metadata": {
        "id": "NnFc0NtONk-1"
      },
      "outputs": [],
      "source": [
        "def intro():                     # Function Defining\n",
        "  value = 5\n",
        "  return value**2\n",
        "  # print(\"Hello i'm from a function\")"
      ]
    },
    {
      "cell_type": "code",
      "execution_count": null,
      "metadata": {
        "colab": {
          "base_uri": "https://localhost:8080/"
        },
        "id": "GRFH3KvUNlAc",
        "outputId": "32a96b08-005d-42fb-a20e-db34007edffd"
      },
      "outputs": [
        {
          "data": {
            "text/plain": [
              "25"
            ]
          },
          "execution_count": 19,
          "metadata": {},
          "output_type": "execute_result"
        }
      ],
      "source": [
        "intro()       # Function Calling"
      ]
    },
    {
      "cell_type": "code",
      "execution_count": null,
      "metadata": {
        "id": "A6g3tDxPNlCl"
      },
      "outputs": [],
      "source": [
        "def my_ID(name):                    # Function with Arguments\n",
        "  print(\"CR001_\" + name)\n"
      ]
    },
    {
      "cell_type": "code",
      "execution_count": null,
      "metadata": {
        "colab": {
          "base_uri": "https://localhost:8080/"
        },
        "id": "96VtEXhl3yMI",
        "outputId": "c8fbc35c-7146-45df-9502-ce057af2effb"
      },
      "outputs": [
        {
          "name": "stdout",
          "output_type": "stream",
          "text": [
            "CR001_Sai\n"
          ]
        }
      ],
      "source": [
        "my_ID(\"Sai\")"
      ]
    },
    {
      "cell_type": "code",
      "execution_count": null,
      "metadata": {
        "id": "W-oSbLOZQSeK"
      },
      "outputs": [],
      "source": [
        "# def add(a,b,c):\n",
        "#   return a+b+c\n",
        "\n",
        "\n",
        "# Using Lambda Function\n",
        "\n",
        "add = lambda a,b,c: print(a+b+c)"
      ]
    },
    {
      "cell_type": "code",
      "execution_count": null,
      "metadata": {
        "colab": {
          "base_uri": "https://localhost:8080/"
        },
        "id": "kfsw73sN5CrQ",
        "outputId": "65d61e0b-5198-4edd-a85e-a992d4faff3c"
      },
      "outputs": [
        {
          "name": "stdout",
          "output_type": "stream",
          "text": [
            "14\n"
          ]
        }
      ],
      "source": [
        "add(4, 5, 5)"
      ]
    },
    {
      "cell_type": "code",
      "execution_count": null,
      "metadata": {
        "id": "oIHbvRAG4j8N"
      },
      "outputs": [],
      "source": [
        "# add(4,5,1)"
      ]
    },
    {
      "cell_type": "code",
      "execution_count": null,
      "metadata": {
        "colab": {
          "base_uri": "https://localhost:8080/"
        },
        "id": "mzGwEzSNQvoK",
        "outputId": "992aeea5-a198-441e-92fd-4640cb15993e"
      },
      "outputs": [
        {
          "name": "stdout",
          "output_type": "stream",
          "text": [
            "[1, 4, 9, 16, 25]\n"
          ]
        }
      ],
      "source": [
        "# Map Function\n",
        "\n",
        "nums = [1, 2, 3, 4, 5]\n",
        "\n",
        "def sq(n):\n",
        "    return n*n\n",
        "\n",
        "# sq(2)\n",
        "\n",
        "square = map(sq, nums)\n",
        "\n",
        "print(list(square))"
      ]
    },
    {
      "cell_type": "code",
      "execution_count": null,
      "metadata": {
        "colab": {
          "base_uri": "https://localhost:8080/"
        },
        "id": "S2vIGMY1RQ8V",
        "outputId": "3786500e-d826-44ae-9ebe-66888d85db92"
      },
      "outputs": [
        {
          "name": "stdout",
          "output_type": "stream",
          "text": [
            "[('Manjeet', 4), ('Nikhil', 1), ('Shambhavi', 3)]\n"
          ]
        }
      ],
      "source": [
        "# Zip Function\n",
        "\n",
        "name = [\"Manjeet\", \"Nikhil\", \"Shambhavi\"]\n",
        "ID = [4, 1, 3]\n",
        "\n",
        "mapped = zip(name, ID)\n",
        "\n",
        "print(list(mapped))"
      ]
    },
    {
      "cell_type": "code",
      "execution_count": null,
      "metadata": {
        "colab": {
          "base_uri": "https://localhost:8080/"
        },
        "id": "9cE0PxwDRRP-",
        "outputId": "c36e6110-f6eb-4d96-8540-6569d603b63f"
      },
      "outputs": [
        {
          "data": {
            "text/plain": [
              "zip"
            ]
          },
          "execution_count": 32,
          "metadata": {},
          "output_type": "execute_result"
        }
      ],
      "source": [
        "type(mapped)"
      ]
    },
    {
      "cell_type": "code",
      "execution_count": null,
      "metadata": {
        "id": "u2lr_RN9RRRb"
      },
      "outputs": [],
      "source": []
    }
  ],
  "metadata": {
    "colab": {
      "provenance": []
    },
    "kernelspec": {
      "display_name": "Python 3",
      "name": "python3"
    },
    "language_info": {
      "name": "python"
    }
  },
  "nbformat": 4,
  "nbformat_minor": 0
}
